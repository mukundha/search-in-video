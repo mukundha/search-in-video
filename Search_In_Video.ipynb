{
 "cells": [
  {
   "cell_type": "code",
   "execution_count": 47,
   "id": "bf85864a",
   "metadata": {},
   "outputs": [],
   "source": [
    "import pysrt\n",
    "import datetime \n",
    "from langchain_astradb import AstraDBVectorStore\n",
    "from langchain_core.documents import Document\n",
    "from langchain_openai import OpenAIEmbeddings\n",
    "from dotenv import load_dotenv\n",
    "import os \n",
    "import pandas as pd "
   ]
  },
  {
   "cell_type": "code",
   "execution_count": null,
   "id": "dcc3fa0c",
   "metadata": {},
   "outputs": [],
   "source": [
    "load_dotenv()"
   ]
  },
  {
   "cell_type": "code",
   "execution_count": null,
   "id": "1030c242",
   "metadata": {},
   "outputs": [],
   "source": [
    "subs = pysrt.open('sub.srt')\n",
    "youtube_link = \"https://www.youtube.com/watch?v=haDg_l9jjxA\""
   ]
  },
  {
   "cell_type": "code",
   "execution_count": 22,
   "id": "3a2aa2ae",
   "metadata": {},
   "outputs": [],
   "source": [
    "def split_by_timewindow(subs, window_in_minutes):\n",
    "    docs = []\n",
    "    t = ''\n",
    "    split_time = datetime.time(hour=0,minute=window_in_minutes, second=0)\n",
    "    for s in subs:\n",
    "        if s.start.to_time() < split_time:            \n",
    "            t = t + ' ' + s.text \n",
    "        else:            \n",
    "            start_time =  (split_time.hour*3600) + (split_time.minute*60) + (split_time.second) - 60\n",
    "            docs.append(Document(page_content=t,metadata={\"link\":f\"{youtube_link}&t={start_time}s\", \"start_time\":start_time}))\n",
    "            t = s.text            \n",
    "            split_time = (datetime.datetime(1, 1, 1,split_time.hour,split_time.minute, split_time.second) +  datetime.timedelta(minutes=window_in_minutes)).time()                \n",
    "    return docs"
   ]
  },
  {
   "cell_type": "code",
   "execution_count": 37,
   "id": "ff516183",
   "metadata": {},
   "outputs": [],
   "source": [
    "t=split_by_timewindow(subs, 1)\n",
    "embedding = OpenAIEmbeddings()\n",
    "vstore = AstraDBVectorStore(\n",
    "    embedding=embedding,\n",
    "    collection_name=\"test\",\n",
    "    token=os.environ[\"ASTRA_DB_APPLICATION_TOKEN\"],\n",
    "    api_endpoint=os.environ[\"ASTRA_DB_API_ENDPOINT\"],\n",
    ")"
   ]
  },
  {
   "cell_type": "code",
   "execution_count": null,
   "id": "5462045a",
   "metadata": {},
   "outputs": [],
   "source": [
    "vstore.add_documents(t)"
   ]
  },
  {
   "cell_type": "code",
   "execution_count": 50,
   "id": "b8a65094",
   "metadata": {},
   "outputs": [
    {
     "data": {
      "text/html": [
       "<div>\n",
       "<style scoped>\n",
       "    .dataframe tbody tr th:only-of-type {\n",
       "        vertical-align: middle;\n",
       "    }\n",
       "\n",
       "    .dataframe tbody tr th {\n",
       "        vertical-align: top;\n",
       "    }\n",
       "\n",
       "    .dataframe thead th {\n",
       "        text-align: right;\n",
       "    }\n",
       "</style>\n",
       "<table border=\"1\" class=\"dataframe\">\n",
       "  <thead>\n",
       "    <tr style=\"text-align: right;\">\n",
       "      <th></th>\n",
       "      <th>subtitle</th>\n",
       "      <th>link</th>\n",
       "      <th>start_time</th>\n",
       "      <th>score</th>\n",
       "    </tr>\n",
       "  </thead>\n",
       "  <tbody>\n",
       "    <tr>\n",
       "      <th>0</th>\n",
       "      <td>whatever organic compounds are there we will isolate them now biotechnology application in agriculture there are various uh you know applications are there see with increasing population like we have read in the chapter number two of zoology which is reproductive Health there was a major issue and that major issue was related to the population increasing you know population in millions it was difficult to feed those number of individuals so what we did we tried to increase the agriculture right by that only we can provide them food so we started using some chemicals we started using some chemicals like insecticide and pesticides and we when we started using those insecticide and pesticide what happened production increased and because of that insecticide and pesticide they had some residual effects also though this lead to the Green Revolution also which later we realized</td>\n",
       "      <td>https://www.youtube.com/watch?v=haDg_l9jjxA&amp;t=21180s</td>\n",
       "      <td>21180</td>\n",
       "      <td>0.943823</td>\n",
       "    </tr>\n",
       "    <tr>\n",
       "      <th>1</th>\n",
       "      <td>we are starting with the biotechnology</td>\n",
       "      <td>https://www.youtube.com/watch?v=haDg_l9jjxA&amp;t=16920s</td>\n",
       "      <td>16920</td>\n",
       "      <td>0.937256</td>\n",
       "    </tr>\n",
       "    <tr>\n",
       "      <th>2</th>\n",
       "      <td>pesticide we don't want pesticides help to reduce post Harvest loss when we are storing those food in bulk nothing can happen to them next increased efficiency of mineral usage by plants more and more plants are extracting nutrients from the soil even when they are at dwarf prod you know when when they are small and high they're producing fruit how it is possible bi technology only enhanced nutritional value for example today we have produced golden rice golden rice means doesn't means it is golden it's made up of gold it doesn't mean that golden rice means it is yellow color rice which is rich in vitamin A okay so with the help of all these things today all biotechnology we have made these things possible so everybody my cbsc aspirant keep these points in your mind okay now what we have prepared so far let's talk</td>\n",
       "      <td>https://www.youtube.com/watch?v=haDg_l9jjxA&amp;t=21300s</td>\n",
       "      <td>21300</td>\n",
       "      <td>0.928397</td>\n",
       "    </tr>\n",
       "    <tr>\n",
       "      <th>3</th>\n",
       "      <td>their natural capability now what we are doing is with the help of a recombinant DNA technology we are modifying those microorganism so that we can use them for the products and the services let's have a look so what is a standard definition of biotechnology given by efb that is the European Federation of biotechnology European Federation of biotechnology says when we integrate when we use the natural capability that means natural sign means organism sells part of their molecular analog for our products and services this is termed as the biotechnology let me first switch on the AC one second it's really very hard and guys I'm telling you seriously it's so difficult to stand in front of the screen with just warit heat one</td>\n",
       "      <td>https://www.youtube.com/watch?v=haDg_l9jjxA&amp;t=17340s</td>\n",
       "      <td>17340</td>\n",
       "      <td>0.921951</td>\n",
       "    </tr>\n",
       "    <tr>\n",
       "      <th>4</th>\n",
       "      <td>chapter it's not that big one it's a small as compared to the uh you know the other chapters so let's do this biot technology application so you know the biotechnology biotechnology is we are modifying it we are using genetic engineering and we are using bioprocesses yes then previously other chapters whatever is there now application of biotechnology there are various applications of biotechnology one is Therapeutics diagnostic genetically modified crop for agriculture processed food bior remediation waste material removal and the energy production these are the different ways right okay three critical areas of the research in biotechnology are see biotechnology what we are doing is we are modifying something right we are modifying something here it provide the</td>\n",
       "      <td>https://www.youtube.com/watch?v=haDg_l9jjxA&amp;t=21060s</td>\n",
       "      <td>21060</td>\n",
       "      <td>0.921778</td>\n",
       "    </tr>\n",
       "  </tbody>\n",
       "</table>\n",
       "</div>"
      ],
      "text/plain": [
       "                                                                                                                                                                                                                                                                                                                                                                                                                                                                                                                                                                                                                                                                                                                                                                                                                                                                                                               subtitle  \\\n",
       "0  whatever organic compounds are there we will isolate them now biotechnology application in agriculture there are various uh you know applications are there see with increasing population like we have read in the chapter number two of zoology which is reproductive Health there was a major issue and that major issue was related to the population increasing you know population in millions it was difficult to feed those number of individuals so what we did we tried to increase the agriculture right by that only we can provide them food so we started using some chemicals we started using some chemicals like insecticide and pesticides and we when we started using those insecticide and pesticide what happened production increased and because of that insecticide and pesticide they had some residual effects also though this lead to the Green Revolution also which later we realized   \n",
       "1                                                                                                                                                                                                                                                                                                                                                                                                                                                                                                                                                                                                                                                                                                                                                                                                                                                                                we are starting with the biotechnology   \n",
       "2                                                             pesticide we don't want pesticides help to reduce post Harvest loss when we are storing those food in bulk nothing can happen to them next increased efficiency of mineral usage by plants more and more plants are extracting nutrients from the soil even when they are at dwarf prod you know when when they are small and high they're producing fruit how it is possible bi technology only enhanced nutritional value for example today we have produced golden rice golden rice means doesn't means it is golden it's made up of gold it doesn't mean that golden rice means it is yellow color rice which is rich in vitamin A okay so with the help of all these things today all biotechnology we have made these things possible so everybody my cbsc aspirant keep these points in your mind okay now what we have prepared so far let's talk   \n",
       "3                                                                                                                                                            their natural capability now what we are doing is with the help of a recombinant DNA technology we are modifying those microorganism so that we can use them for the products and the services let's have a look so what is a standard definition of biotechnology given by efb that is the European Federation of biotechnology European Federation of biotechnology says when we integrate when we use the natural capability that means natural sign means organism sells part of their molecular analog for our products and services this is termed as the biotechnology let me first switch on the AC one second it's really very hard and guys I'm telling you seriously it's so difficult to stand in front of the screen with just warit heat one   \n",
       "4                                                                                                                  chapter it's not that big one it's a small as compared to the uh you know the other chapters so let's do this biot technology application so you know the biotechnology biotechnology is we are modifying it we are using genetic engineering and we are using bioprocesses yes then previously other chapters whatever is there now application of biotechnology there are various applications of biotechnology one is Therapeutics diagnostic genetically modified crop for agriculture processed food bior remediation waste material removal and the energy production these are the different ways right okay three critical areas of the research in biotechnology are see biotechnology what we are doing is we are modifying something right we are modifying something here it provide the   \n",
       "\n",
       "                                                   link  start_time     score  \n",
       "0  https://www.youtube.com/watch?v=haDg_l9jjxA&t=21180s       21180  0.943823  \n",
       "1  https://www.youtube.com/watch?v=haDg_l9jjxA&t=16920s       16920  0.937256  \n",
       "2  https://www.youtube.com/watch?v=haDg_l9jjxA&t=21300s       21300  0.928397  \n",
       "3  https://www.youtube.com/watch?v=haDg_l9jjxA&t=17340s       17340  0.921951  \n",
       "4  https://www.youtube.com/watch?v=haDg_l9jjxA&t=21060s       21060  0.921778  "
      ]
     },
     "execution_count": 50,
     "metadata": {},
     "output_type": "execute_result"
    }
   ],
   "source": [
    "result = vstore.similarity_search_with_relevance_scores(\"bio technology application in agriculture\", k=5)\n",
    "\n",
    "data = { \"subtitle\": [], \"link\": [], \"start_time\": [], \"score\": []}\n",
    "for r in result:\n",
    "    data['subtitle'].append(r[0].page_content)\n",
    "    data['link'].append(r[0].metadata['link'])\n",
    "    data['score'].append(r[1])\n",
    "    data['start_time'].append(r[0].metadata['start_time'])\n",
    "df = pd.DataFrame(data)\n",
    "pd.set_option('display.max_colwidth', None)\n",
    "df\n"
   ]
  },
  {
   "cell_type": "code",
   "execution_count": null,
   "id": "396e776d",
   "metadata": {},
   "outputs": [],
   "source": []
  }
 ],
 "metadata": {
  "kernelspec": {
   "display_name": "Python 3 (ipykernel)",
   "language": "python",
   "name": "python3"
  },
  "language_info": {
   "codemirror_mode": {
    "name": "ipython",
    "version": 3
   },
   "file_extension": ".py",
   "mimetype": "text/x-python",
   "name": "python",
   "nbconvert_exporter": "python",
   "pygments_lexer": "ipython3",
   "version": "3.11.6"
  }
 },
 "nbformat": 4,
 "nbformat_minor": 5
}
